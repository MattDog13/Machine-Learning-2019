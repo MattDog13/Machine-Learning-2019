{
 "cells": [
  {
   "cell_type": "code",
   "execution_count": 1,
   "metadata": {},
   "outputs": [],
   "source": [
    "import pandas as pd\n",
    "from dask import compute\n",
    "from dask import dataframe as dd"
   ]
  },
  {
   "cell_type": "code",
   "execution_count": 2,
   "metadata": {},
   "outputs": [],
   "source": [
    "ddf = dd.read_csv('datadump_S5.csv', sep=';', encoding='cp1251')"
   ]
  },
  {
   "cell_type": "code",
   "execution_count": 3,
   "metadata": {},
   "outputs": [
    {
     "data": {
      "text/plain": [
       "Index(['dateid', 'platform', 'gamemode', 'mapname', 'matchid', 'roundnumber',\n",
       "       'objectivelocation', 'winrole', 'endroundreason', 'roundduration',\n",
       "       'clearancelevel', 'skillrank', 'role', 'team', 'haswon', 'operator',\n",
       "       'nbkills', 'isdead', 'primaryweapon', 'primaryweapontype',\n",
       "       'primarysight', 'primarygrip', 'primaryunderbarrel', 'primarybarrel',\n",
       "       'secondaryweapon', 'secondaryweapontype', 'secondarysight',\n",
       "       'secondarygrip', 'secondaryunderbarrel', 'secondarybarrel',\n",
       "       'secondarygadget'],\n",
       "      dtype='object')"
      ]
     },
     "execution_count": 3,
     "metadata": {},
     "output_type": "execute_result"
    }
   ],
   "source": [
    "ddf.columns"
   ]
  },
  {
   "cell_type": "code",
   "execution_count": null,
   "metadata": {},
   "outputs": [],
   "source": [
    "ddf = ddf[(ddf.platform == 'PS4')]"
   ]
  },
  {
   "cell_type": "code",
   "execution_count": 4,
   "metadata": {},
   "outputs": [],
   "source": [
    "ddf = ddf[['matchid', 'roundnumber', 'gamemode', 'mapname', 'objectivelocation', 'clearancelevel', 'skillrank', 'team', 'role', 'operator', 'primarysight', 'winrole', 'endroundreason']]"
   ]
  },
  {
   "cell_type": "code",
   "execution_count": 6,
   "metadata": {},
   "outputs": [],
   "source": [
    "df = ddf.compute()"
   ]
  },
  {
   "cell_type": "code",
   "execution_count": 7,
   "metadata": {},
   "outputs": [],
   "source": [
    "df.to_csv('datadump_S5-PS4.csv', index=False)"
   ]
  },
  {
   "cell_type": "code",
   "execution_count": null,
   "metadata": {},
   "outputs": [],
   "source": []
  }
 ],
 "metadata": {
  "kernelspec": {
   "display_name": "Python 3",
   "language": "python",
   "name": "python3"
  },
  "language_info": {
   "codemirror_mode": {
    "name": "ipython",
    "version": 3
   },
   "file_extension": ".py",
   "mimetype": "text/x-python",
   "name": "python",
   "nbconvert_exporter": "python",
   "pygments_lexer": "ipython3",
   "version": "3.7.2"
  }
 },
 "nbformat": 4,
 "nbformat_minor": 2
}
